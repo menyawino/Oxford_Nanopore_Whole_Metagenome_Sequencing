{
 "cells": [
  {
   "cell_type": "code",
   "execution_count": 1,
   "metadata": {},
   "outputs": [],
   "source": [
    "import pandas as pd  # Import pandas library for data manipulation\n",
    "import argparse  # Import argparse for command-line argument parsing\n",
    "import numpy as np  # Import numpy for numerical operations\n",
    "import requests  # Import requests for making HTTP requests"
   ]
  },
  {
   "cell_type": "code",
   "execution_count": 12,
   "metadata": {},
   "outputs": [],
   "source": [
    "def read_and_process_file(file):  # Define a function to read and process a file\n",
    "    sample_name = file.split('/')[-1].split('_')[0]  # Extract sample name from file path\n",
    "    df = pd.read_csv(file, sep='\\t', index_col=0, comment='#')  # Read the file into a DataFrame\n",
    "    df = df[~df.index.isin(['UNMAPPED', 'UNGROUPED'])]  # Remove rows with 'UNMAPPED' and 'UNGROUPED' indices\n",
    "    df = df[df.columns[df.sum() != 0]]  # Remove columns with all zero values\n",
    "    # df.columns = [sample_name]  # Rename columns to sample name\n",
    "    if df.index.duplicated().any():  # Check for duplicate indices\n",
    "        print(\"Duplicate indices detected. Making indices unique.\")  # Print a message if duplicates are found\n",
    "        df.index = df.index + \"_\" + pd.Series(range(len(df))).astype(str)  # Make indices unique\n",
    "    return df  # Return the processed DataFrame"
   ]
  },
  {
   "cell_type": "code",
   "execution_count": 13,
   "metadata": {},
   "outputs": [],
   "source": [
    "def get_reactions_from_ko(ko_id):  # Define a function to get reactions from KO ID\n",
    "    url = f\"http://rest.kegg.jp/link/reaction/{ko_id}\"  # Construct the URL for the KEGG API\n",
    "    response = requests.get(url)  # Make a GET request to the URL\n",
    "    return response.text  # Return the response text\n",
    "\n",
    "def get_compounds_from_reaction(reaction_id):  # Define a function to get compounds from reaction ID\n",
    "    url = f\"http://rest.kegg.jp/get/{reaction_id}\"  # Construct the URL for the KEGG API\n",
    "    response = requests.get(url)  # Make a GET request to the URL\n",
    "    return response.text  # Return the response text"
   ]
  },
  {
   "cell_type": "code",
   "execution_count": 14,
   "metadata": {},
   "outputs": [],
   "source": [
    "df = pd.read_csv(\"SRR7947168_kegg_3_reactions.tsv\", sep='\\t', index_col=0, header=0)  # Read the TSV file into a DataFrame\n",
    "df  # Display the DataFrame\n",
    "# drop rows with all zeros\n",
    "df = df.loc[(df!=0).any(axis=1)]  # Drop rows where all values are zero\n",
    "# drop UNGROUPED and UNMAPPED\n",
    "df = df[~df.index.isin(['UNMAPPED', 'UNGROUPED'])]  # Drop rows with 'UNMAPPED' and 'UNGROUPED' indices"
   ]
  },
  {
   "cell_type": "code",
   "execution_count": 8,
   "metadata": {},
   "outputs": [
    {
     "ename": "KeyboardInterrupt",
     "evalue": "",
     "output_type": "error",
     "traceback": [
      "\u001b[0;31m---------------------------------------------------------------------------\u001b[0m",
      "\u001b[0;31mKeyboardInterrupt\u001b[0m                         Traceback (most recent call last)",
      "Cell \u001b[0;32mIn[8], line 43\u001b[0m\n\u001b[1;32m     40\u001b[0m metabolite_abundance \u001b[38;5;241m=\u001b[39m {}  \u001b[38;5;66;03m# Initialize an empty dictionary to store metabolite abundance\u001b[39;00m\n\u001b[1;32m     42\u001b[0m num_threads \u001b[38;5;241m=\u001b[39m \u001b[38;5;241m1\u001b[39m  \u001b[38;5;66;03m# Example number of threads\u001b[39;00m\n\u001b[0;32m---> 43\u001b[0m metabolite_df \u001b[38;5;241m=\u001b[39m \u001b[43mmap_ko_to_metabolites\u001b[49m\u001b[43m(\u001b[49m\u001b[43mdf\u001b[49m\u001b[43m,\u001b[49m\u001b[43m \u001b[49m\u001b[43mnum_threads\u001b[49m\u001b[43m)\u001b[49m  \u001b[38;5;66;03m# Map KO IDs to metabolites and get the DataFrame\u001b[39;00m\n\u001b[1;32m     44\u001b[0m metabolite_df  \u001b[38;5;66;03m# Display the DataFrame\u001b[39;00m\n",
      "Cell \u001b[0;32mIn[8], line 32\u001b[0m, in \u001b[0;36mmap_ko_to_metabolites\u001b[0;34m(df, num_threads)\u001b[0m\n\u001b[1;32m     30\u001b[0m metabolite_abundance \u001b[38;5;241m=\u001b[39m {}  \u001b[38;5;66;03m# Initialize an empty dictionary to store metabolite abundance\u001b[39;00m\n\u001b[1;32m     31\u001b[0m \u001b[38;5;28;01mwith\u001b[39;00m ThreadPoolExecutor(max_workers\u001b[38;5;241m=\u001b[39mnum_threads) \u001b[38;5;28;01mas\u001b[39;00m executor:  \u001b[38;5;66;03m# Create a ThreadPoolExecutor with the specified number of threads\u001b[39;00m\n\u001b[0;32m---> 32\u001b[0m     results \u001b[38;5;241m=\u001b[39m \u001b[38;5;28;43mlist\u001b[39;49m\u001b[43m(\u001b[49m\u001b[43mexecutor\u001b[49m\u001b[38;5;241;43m.\u001b[39;49m\u001b[43mmap\u001b[49m\u001b[43m(\u001b[49m\u001b[38;5;28;43;01mlambda\u001b[39;49;00m\u001b[43m \u001b[49m\u001b[43mko_id\u001b[49m\u001b[43m:\u001b[49m\u001b[43m \u001b[49m\u001b[43mprocess_ko_id\u001b[49m\u001b[43m(\u001b[49m\u001b[43mko_id\u001b[49m\u001b[43m,\u001b[49m\u001b[43m \u001b[49m\u001b[43mdf\u001b[49m\u001b[43m)\u001b[49m\u001b[43m,\u001b[49m\u001b[43m \u001b[49m\u001b[43mdf\u001b[49m\u001b[38;5;241;43m.\u001b[39;49m\u001b[43mindex\u001b[49m\u001b[43m)\u001b[49m\u001b[43m)\u001b[49m  \u001b[38;5;66;03m# Map the KO IDs to metabolites using the executor\u001b[39;00m\n\u001b[1;32m     33\u001b[0m \u001b[38;5;28;01mfor\u001b[39;00m result \u001b[38;5;129;01min\u001b[39;00m results:  \u001b[38;5;66;03m# Iterate over each result\u001b[39;00m\n\u001b[1;32m     34\u001b[0m     \u001b[38;5;28;01mfor\u001b[39;00m metabolite, abundance \u001b[38;5;129;01min\u001b[39;00m result\u001b[38;5;241m.\u001b[39mitems():  \u001b[38;5;66;03m# Iterate over each metabolite and its abundance\u001b[39;00m\n",
      "File \u001b[0;32m~/Downloads/miniconda3/envs/humann_env/lib/python3.12/concurrent/futures/_base.py:619\u001b[0m, in \u001b[0;36mExecutor.map.<locals>.result_iterator\u001b[0;34m()\u001b[0m\n\u001b[1;32m    616\u001b[0m \u001b[38;5;28;01mwhile\u001b[39;00m fs:\n\u001b[1;32m    617\u001b[0m     \u001b[38;5;66;03m# Careful not to keep a reference to the popped future\u001b[39;00m\n\u001b[1;32m    618\u001b[0m     \u001b[38;5;28;01mif\u001b[39;00m timeout \u001b[38;5;129;01mis\u001b[39;00m \u001b[38;5;28;01mNone\u001b[39;00m:\n\u001b[0;32m--> 619\u001b[0m         \u001b[38;5;28;01myield\u001b[39;00m \u001b[43m_result_or_cancel\u001b[49m\u001b[43m(\u001b[49m\u001b[43mfs\u001b[49m\u001b[38;5;241;43m.\u001b[39;49m\u001b[43mpop\u001b[49m\u001b[43m(\u001b[49m\u001b[43m)\u001b[49m\u001b[43m)\u001b[49m\n\u001b[1;32m    620\u001b[0m     \u001b[38;5;28;01melse\u001b[39;00m:\n\u001b[1;32m    621\u001b[0m         \u001b[38;5;28;01myield\u001b[39;00m _result_or_cancel(fs\u001b[38;5;241m.\u001b[39mpop(), end_time \u001b[38;5;241m-\u001b[39m time\u001b[38;5;241m.\u001b[39mmonotonic())\n",
      "File \u001b[0;32m~/Downloads/miniconda3/envs/humann_env/lib/python3.12/concurrent/futures/_base.py:317\u001b[0m, in \u001b[0;36m_result_or_cancel\u001b[0;34m(***failed resolving arguments***)\u001b[0m\n\u001b[1;32m    315\u001b[0m \u001b[38;5;28;01mtry\u001b[39;00m:\n\u001b[1;32m    316\u001b[0m     \u001b[38;5;28;01mtry\u001b[39;00m:\n\u001b[0;32m--> 317\u001b[0m         \u001b[38;5;28;01mreturn\u001b[39;00m \u001b[43mfut\u001b[49m\u001b[38;5;241;43m.\u001b[39;49m\u001b[43mresult\u001b[49m\u001b[43m(\u001b[49m\u001b[43mtimeout\u001b[49m\u001b[43m)\u001b[49m\n\u001b[1;32m    318\u001b[0m     \u001b[38;5;28;01mfinally\u001b[39;00m:\n\u001b[1;32m    319\u001b[0m         fut\u001b[38;5;241m.\u001b[39mcancel()\n",
      "File \u001b[0;32m~/Downloads/miniconda3/envs/humann_env/lib/python3.12/concurrent/futures/_base.py:451\u001b[0m, in \u001b[0;36mFuture.result\u001b[0;34m(self, timeout)\u001b[0m\n\u001b[1;32m    448\u001b[0m \u001b[38;5;28;01melif\u001b[39;00m \u001b[38;5;28mself\u001b[39m\u001b[38;5;241m.\u001b[39m_state \u001b[38;5;241m==\u001b[39m FINISHED:\n\u001b[1;32m    449\u001b[0m     \u001b[38;5;28;01mreturn\u001b[39;00m \u001b[38;5;28mself\u001b[39m\u001b[38;5;241m.\u001b[39m__get_result()\n\u001b[0;32m--> 451\u001b[0m \u001b[38;5;28;43mself\u001b[39;49m\u001b[38;5;241;43m.\u001b[39;49m\u001b[43m_condition\u001b[49m\u001b[38;5;241;43m.\u001b[39;49m\u001b[43mwait\u001b[49m\u001b[43m(\u001b[49m\u001b[43mtimeout\u001b[49m\u001b[43m)\u001b[49m\n\u001b[1;32m    453\u001b[0m \u001b[38;5;28;01mif\u001b[39;00m \u001b[38;5;28mself\u001b[39m\u001b[38;5;241m.\u001b[39m_state \u001b[38;5;129;01min\u001b[39;00m [CANCELLED, CANCELLED_AND_NOTIFIED]:\n\u001b[1;32m    454\u001b[0m     \u001b[38;5;28;01mraise\u001b[39;00m CancelledError()\n",
      "File \u001b[0;32m~/Downloads/miniconda3/envs/humann_env/lib/python3.12/threading.py:355\u001b[0m, in \u001b[0;36mCondition.wait\u001b[0;34m(self, timeout)\u001b[0m\n\u001b[1;32m    353\u001b[0m \u001b[38;5;28;01mtry\u001b[39;00m:    \u001b[38;5;66;03m# restore state no matter what (e.g., KeyboardInterrupt)\u001b[39;00m\n\u001b[1;32m    354\u001b[0m     \u001b[38;5;28;01mif\u001b[39;00m timeout \u001b[38;5;129;01mis\u001b[39;00m \u001b[38;5;28;01mNone\u001b[39;00m:\n\u001b[0;32m--> 355\u001b[0m         \u001b[43mwaiter\u001b[49m\u001b[38;5;241;43m.\u001b[39;49m\u001b[43macquire\u001b[49m\u001b[43m(\u001b[49m\u001b[43m)\u001b[49m\n\u001b[1;32m    356\u001b[0m         gotit \u001b[38;5;241m=\u001b[39m \u001b[38;5;28;01mTrue\u001b[39;00m\n\u001b[1;32m    357\u001b[0m     \u001b[38;5;28;01melse\u001b[39;00m:\n",
      "\u001b[0;31mKeyboardInterrupt\u001b[0m: "
     ]
    }
   ],
   "source": [
    "from concurrent.futures import ThreadPoolExecutor\n",
    "\n",
    "def process_ko_id(ko_id, df):  # Define a function to process KO ID\n",
    "    metabolite_abundance = {}  # Initialize an empty dictionary to store metabolite abundance\n",
    "    reaction_mapping = get_reactions_from_ko(f\"ko:{ko_id}\")  # Get reaction mapping from KO ID\n",
    "    for line in reaction_mapping.strip().split('\\n'):  # Iterate over each line in the reaction mapping\n",
    "        if '\\t' not in line:  # Skip lines that do not contain a tab character\n",
    "            continue\n",
    "        _, reaction_id = line.split('\\t')  # Split the line by tab and get the reaction ID\n",
    "        reaction_details = get_compounds_from_reaction(reaction_id.split(':')[1])  # Get reaction details from reaction ID\n",
    "        metabolites = []  # Initialize an empty list to store metabolites\n",
    "        for line in reaction_details.strip().split('\\n'):  # Iterate over each line in the reaction details\n",
    "            if line.startswith(\"DEFINITION\"):  # Check if the line starts with 'DEFINITION'\n",
    "                definition = line.split('DEFINITION')[1].strip()  # Extract the definition from the line\n",
    "                metabolites = [s.strip() for s in definition.split('<=>')[0].split('+')] + [s.strip() for s in definition.split('<=>')[1].split('+')]  # Split the definition into metabolites\n",
    "        for metabolite in metabolites:  # Iterate over each metabolite\n",
    "            parts = [p for p in metabolite.split() if p]  # Split the metabolite by space and remove empty parts\n",
    "            if parts and parts[0].isdigit():  # Check if the first part is a digit\n",
    "                count = int(parts[0])  # Get the count of the metabolite\n",
    "                metabolite_name = \" \".join(parts[1:])  # Get the name of the metabolite\n",
    "            else:\n",
    "                count = 1  # Set the count to 1 if the first part is not a digit\n",
    "                metabolite_name = metabolite  # Set the name of the metabolite\n",
    "            if metabolite_name not in metabolite_abundance:  # Check if the metabolite is not in the dictionary\n",
    "                metabolite_abundance[metabolite_name] = 0  # Initialize the abundance of the metabolite to 0\n",
    "            metabolite_abundance[metabolite_name] += df.loc[ko_id].values[0] * count  # Update the abundance of the metabolite\n",
    "    return metabolite_abundance  # Return the metabolite abundance dictionary\n",
    "\n",
    "def map_ko_to_metabolites(df, num_threads):  # Define a function to map KO IDs to metabolites\n",
    "    metabolite_abundance = {}  # Initialize an empty dictionary to store metabolite abundance\n",
    "    with ThreadPoolExecutor(max_workers=num_threads) as executor:  # Create a ThreadPoolExecutor with the specified number of threads\n",
    "        results = list(executor.map(lambda ko_id: process_ko_id(ko_id, df), df.index))  # Map the KO IDs to metabolites using the executor\n",
    "    for result in results:  # Iterate over each result\n",
    "        for metabolite, abundance in result.items():  # Iterate over each metabolite and its abundance\n",
    "            if metabolite not in metabolite_abundance:  # Check if the metabolite is not in the dictionary\n",
    "                metabolite_abundance[metabolite] = 0  # Initialize the abundance of the metabolite to 0\n",
    "            metabolite_abundance[metabolite] += abundance  # Update the abundance of the metabolite\n",
    "    return pd.DataFrame.from_dict(metabolite_abundance, orient='index', columns=['Abundance'])  # Return a DataFrame with the metabolite abundance\n",
    "\n",
    "metabolite_abundance = {}  # Initialize an empty dictionary to store metabolite abundance\n",
    "\n",
    "num_threads = 1  # Example number of threads\n",
    "metabolite_df = map_ko_to_metabolites(df, num_threads)  # Map KO IDs to metabolites and get the DataFrame\n",
    "metabolite_df  # Display the DataFrame"
   ]
  }
 ],
 "metadata": {
  "kernelspec": {
   "display_name": "humann_env",
   "language": "python",
   "name": "python3"
  },
  "language_info": {
   "codemirror_mode": {
    "name": "ipython",
    "version": 3
   },
   "file_extension": ".py",
   "mimetype": "text/x-python",
   "name": "python",
   "nbconvert_exporter": "python",
   "pygments_lexer": "ipython3",
   "version": "3.12.3"
  }
 },
 "nbformat": 4,
 "nbformat_minor": 2
}
