{
 "cells": [
  {
   "cell_type": "code",
   "execution_count": 2,
   "metadata": {},
   "outputs": [],
   "source": [
    "import csv\n",
    "from collections import defaultdict\n",
    "\n",
    "def calculate_taxa_contribution(input_file, output_file):\n",
    "    pathway_abundance = {}\n",
    "    taxa_contributions = defaultdict(list)\n",
    "\n",
    "    with open(input_file, 'r') as infile:\n",
    "        reader = csv.reader(infile, delimiter='\\t')\n",
    "        next(reader)  # Skip header\n",
    "        for row in reader:\n",
    "            pathway, abundance = row\n",
    "            abundance = float(abundance)\n",
    "            if '|' not in pathway:\n",
    "                pathway_abundance[pathway] = abundance\n",
    "            else:\n",
    "                base_pathway = pathway.split('|')[0]\n",
    "                taxa_contributions[base_pathway].append((pathway, abundance))\n",
    "\n",
    "    with open(output_file, 'w', newline='') as outfile:\n",
    "        writer = csv.writer(outfile, delimiter='\\t')\n",
    "        writer.writerow(['Pathway', 'Taxa', 'Abundance', 'Relative Contribution'])\n",
    "        for pathway, taxa_list in taxa_contributions.items():\n",
    "            total_abundance = pathway_abundance.get(pathway, 0)\n",
    "            if total_abundance > 0:\n",
    "                for taxa, abundance in sorted(taxa_list, key=lambda x: x[1], reverse=True):\n",
    "                    relative_contribution = abundance / total_abundance\n",
    "                    writer.writerow([pathway, taxa, abundance, relative_contribution])"
   ]
  },
  {
   "cell_type": "code",
   "execution_count": 4,
   "metadata": {},
   "outputs": [],
   "source": [
    "calculate_taxa_contribution('/mnt/omar/pipelines/ont/work/results/004_pathways/humann/ERR13731435/ERR13731435_merged_pathabundance.tsv', 'taxa_contribution.tsv')"
   ]
  }
 ],
 "metadata": {
  "kernelspec": {
   "display_name": "dl_env",
   "language": "python",
   "name": "python3"
  },
  "language_info": {
   "codemirror_mode": {
    "name": "ipython",
    "version": 3
   },
   "file_extension": ".py",
   "mimetype": "text/x-python",
   "name": "python",
   "nbconvert_exporter": "python",
   "pygments_lexer": "ipython3",
   "version": "3.12.7"
  }
 },
 "nbformat": 4,
 "nbformat_minor": 2
}
