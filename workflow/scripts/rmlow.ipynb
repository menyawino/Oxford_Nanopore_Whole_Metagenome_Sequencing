{
 "cells": [
  {
   "cell_type": "code",
   "execution_count": 1,
   "metadata": {},
   "outputs": [
    {
     "data": {
      "text/plain": [
       "list"
      ]
     },
     "execution_count": 1,
     "metadata": {},
     "output_type": "execute_result"
    }
   ],
   "source": [
    "import pandas as pd\n",
    "from sklearn.feature_selection import VarianceThreshold\n",
    "\n",
    "def remove_low_variance_features(input_csv, output_csv, threshold=0.0):\n",
    "    # Read the CSV file into a DataFrame\n",
    "    df = pd.read_csv(input_csv)\n",
    "    \n",
    "    # Separate the sample names and features\n",
    "    sample_names = df.iloc[:, 0]\n",
    "    features = df.iloc[:, 1:]\n",
    "    \n",
    "    # Remove binary traits\n",
    "    non_binary_features = features.loc[:, features.nunique() > 2]\n",
    "    \n",
    "    # Apply VarianceThreshold to remove low variance features\n",
    "    selector = VarianceThreshold(threshold=threshold)\n",
    "    features_reduced = selector.fit_transform(non_binary_features)\n",
    "    \n",
    "    # Get the column names of the remaining features\n",
    "    remaining_columns = non_binary_features.columns[selector.get_support()]\n",
    "    \n",
    "    # Create a new DataFrame with the sample names and the remaining features\n",
    "    df_reduced = pd.DataFrame(features_reduced, columns=remaining_columns)\n",
    "    df_reduced.insert(0, sample_names.name, sample_names)\n",
    "    \n",
    "    # Save the new DataFrame to a CSV file\n",
    "    df_reduced.to_csv(output_csv, index=False)\n"
   ]
  }
 ],
 "metadata": {
  "kernelspec": {
   "display_name": "dl_env",
   "language": "python",
   "name": "python3"
  },
  "language_info": {
   "codemirror_mode": {
    "name": "ipython",
    "version": 3
   },
   "file_extension": ".py",
   "mimetype": "text/x-python",
   "name": "python",
   "nbconvert_exporter": "python",
   "pygments_lexer": "ipython3",
   "version": "3.12.7"
  }
 },
 "nbformat": 4,
 "nbformat_minor": 2
}
